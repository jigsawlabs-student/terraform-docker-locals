{
 "cells": [
  {
   "cell_type": "markdown",
   "id": "8bf8e05a-712d-4319-8c34-298f2a30060a",
   "metadata": {},
   "source": [
    "# Using Variables to Set up RDS"
   ]
  },
  {
   "cell_type": "markdown",
   "id": "86cb2fbc-517c-40a2-92be-9d1a935dba0e",
   "metadata": {},
   "source": [
    "### Introduction"
   ]
  },
  {
   "cell_type": "markdown",
   "id": "3e853120-ede7-43ee-890a-f79d3da0669b",
   "metadata": {},
   "source": [
    "In this lesson, we'll see how we can set up an RDS instance, and we'll also see how we can use variables to better configure our code."
   ]
  },
  {
   "cell_type": "markdown",
   "id": "9d5e86fb-1c1f-4d0e-9d29-c5dfb0c8ad8d",
   "metadata": {},
   "source": [
    "### Setting up our database"
   ]
  },
  {
   "cell_type": "markdown",
   "id": "96f1b580-8e0c-4972-9817-8717f6f8c3de",
   "metadata": {},
   "source": [
    "You can get a sense of how to set up an RDS application with something like the following [aws rds](https://registry.terraform.io/providers/hashicorp/aws/latest/docs/resources/db_instance#rds-instance-class-types).  Or you can ask chatgpt something like the following: \n",
    "\n",
    "`Please show me how to provision an rds instance that uses postgres with terraform.`\n",
    "\n",
    "\n",
    "> When we say provision, we mean set up.  People often use the word provision for the processes setup and get our instances up and running."
   ]
  },
  {
   "cell_type": "markdown",
   "id": "c53aba01-c622-43bc-b6ca-43e8d1710a8f",
   "metadata": {},
   "source": [
    "Ok, so if you look at the code in the `rds.tf` file, you can see how we set up our code."
   ]
  },
  {
   "cell_type": "markdown",
   "id": "85a599b4-9832-4fa1-b090-d0515a620f1a",
   "metadata": {},
   "source": [
    "```bash\n",
    "resource \"aws_db_instance\" \"postgres_db\" {\n",
    "  allocated_storage    = 20\n",
    "  db_name              = \"job_scraper\"\n",
    "  storage_type         = \"gp2\"\n",
    "  engine               = \"postgres\"\n",
    "  engine_version       = \"16.1\"  \n",
    "  instance_class       = \"db.t3.micro\"\n",
    "  ...\n",
    "```"
   ]
  },
  {
   "cell_type": "markdown",
   "id": "3beb44ee-321f-4b32-9eb8-f0477bc756f9",
   "metadata": {},
   "source": [
    "A lot of these values we were able to figure out by going to the AWS RDS console."
   ]
  },
  {
   "cell_type": "markdown",
   "id": "7be8a856-7e04-4e5a-9f38-59c2308e6fa5",
   "metadata": {},
   "source": [
    "<img src=\"./rds-setup.png\" width=\"40%\">"
   ]
  },
  {
   "cell_type": "markdown",
   "id": "16ad1bcf-1295-4f94-9be1-eaf2e439cad1",
   "metadata": {},
   "source": [
    "For example, you can see that our `instance_class`,  `storage type` and `allocated_storage` match the default values in the AWS console for RDS."
   ]
  },
  {
   "cell_type": "markdown",
   "id": "e17804ab-a1a1-4de2-b794-5e010a106a21",
   "metadata": {},
   "source": [
    "And we also associated a security group that allows for access on port 5432.\n",
    "\n",
    "```bash\n",
    "vpc_security_group_ids = [aws_security_group.postgres_access.id]\n",
    "```"
   ]
  },
  {
   "cell_type": "markdown",
   "id": "6cc74a56-c330-43eb-bc22-6b7f25bd0499",
   "metadata": {},
   "source": [
    "Run the following: \n",
    "\n",
    "```\n",
    "terraform init\n",
    "terraform apply\n",
    "```"
   ]
  },
  {
   "cell_type": "markdown",
   "id": "1b3a72b2-5355-4ff2-8676-85623b797ee8",
   "metadata": {},
   "source": [
    "Once the instance has been created, you can confirm that you can access the database with the output instructions displayed in the console:\n",
    "\n",
    "```bash\n",
    "psql -d database_name -h host -U username\n",
    "```"
   ]
  },
  {
   "cell_type": "markdown",
   "id": "ed03500c-8254-4c53-a885-c5eb2e9b4980",
   "metadata": {},
   "source": [
    "> **Note: You'll have to remove** the ending port numbers of 5432 to use the outputted `psql` command."
   ]
  },
  {
   "cell_type": "markdown",
   "id": "7e8b5e7c-0131-4051-b0f3-ef00962fc415",
   "metadata": {},
   "source": [
    "### Refactoring with Locals"
   ]
  },
  {
   "cell_type": "markdown",
   "id": "3e4120a6-989b-4232-b3d6-84ab03b3758b",
   "metadata": {},
   "source": [
    "Ok, so it turns out that terraform gives us the ability to declare and retrieve variables.  We can variables using the `locals` resource."
   ]
  },
  {
   "cell_type": "markdown",
   "id": "719b18b1-04be-4de6-b867-877e06a89a21",
   "metadata": {},
   "source": [
    "```bash\n",
    "locals { \n",
    "    hardware_settings = {\n",
    "        allocated_storage = 20\n",
    "    }\n",
    "\n",
    "    db_config = {\n",
    "        db_name = \"job_scraper\"\n",
    "        instance_name = \"scraper_db\"\n",
    "        username = \"postgres\"\n",
    "        password = \"password\"\n",
    "    }\n",
    "}\n",
    "```"
   ]
  },
  {
   "cell_type": "markdown",
   "id": "3203674b-2abe-4025-9b1f-4b3196dc0b71",
   "metadata": {},
   "source": [
    "So above we declared a series of variables.  And we can retrieve a variable like allocated storage with something like:"
   ]
  },
  {
   "cell_type": "markdown",
   "id": "6e82aa1e-5c64-4a2f-a6f6-73d3aacd94fc",
   "metadata": {},
   "source": [
    "`local.hardware_settings.allocated_storage`"
   ]
  },
  {
   "cell_type": "markdown",
   "id": "1cb36010-f389-4720-928e-53fcf74126f9",
   "metadata": {},
   "source": [
    "So notice that we use the word **locals** to declare our variables and **local** (singular) to retrieve each variable."
   ]
  },
  {
   "cell_type": "markdown",
   "id": "27c2ae55-0eb7-4333-942c-819bfb822288",
   "metadata": {},
   "source": [
    "If you look at the `rds_locals.tf` file, you can see how we used locals to refactor our code."
   ]
  },
  {
   "cell_type": "markdown",
   "id": "3b97ba5a-b441-4da9-8e00-653796196f4c",
   "metadata": {},
   "source": [
    "### Going further with variables"
   ]
  },
  {
   "cell_type": "markdown",
   "id": "e58f417b-7dd7-44b5-9144-a44b3dcd9e53",
   "metadata": {},
   "source": [
    "Now a feature that's fairly similar to using locals is terraform's variables feature.  We can declare a variable directly in our terraform file with something like the following:"
   ]
  },
  {
   "cell_type": "markdown",
   "id": "30de59d2-2610-4464-97e5-b1056dfa9ae4",
   "metadata": {},
   "source": [
    "```bash\n",
    "variable \"rds_name\" {\n",
    "    type = string\n",
    "    default = \"job_scraper\"\n",
    "}\n",
    "```"
   ]
  },
  {
   "cell_type": "markdown",
   "id": "e10601c0-55e6-4ac7-b097-864f61354b46",
   "metadata": {},
   "source": [
    "So above, we declare a variable called `database_name` that has a default value of `job_scraper`.  Then, later, we can access the variable with something like the following:"
   ]
  },
  {
   "cell_type": "markdown",
   "id": "4b7552c5-e50d-4af1-82a4-3005271f308f",
   "metadata": {},
   "source": [
    "```bash\n",
    "var.rds_name\n",
    "```"
   ]
  },
  {
   "cell_type": "markdown",
   "id": "517cdb9c-b6ee-4eb9-930f-ce4eed58d3ad",
   "metadata": {},
   "source": [
    "If you navigate to the `tf_variables` folder and run `terraform apply` you can see our variable outputted."
   ]
  },
  {
   "cell_type": "markdown",
   "id": "f50918d4-b34d-49eb-b159-f9da388206bd",
   "metadata": {},
   "source": [
    "Now one of the nice things about variables is that we can configure their value at runtime.  For example, this time run the following:"
   ]
  },
  {
   "cell_type": "markdown",
   "id": "62a67784-ac4d-4a02-9ff2-3afe3bb830f7",
   "metadata": {},
   "source": [
    "```bash\n",
    "terraform apply -var-file=\"dev.tfvars\"\n",
    "```"
   ]
  },
  {
   "cell_type": "markdown",
   "id": "91ee4f27-fe8b-453b-91d7-c1ac25408a3f",
   "metadata": {},
   "source": [
    "So this time, we overwrote our default variable value with the values in the `dev.tfvars` file.  \n",
    "\n",
    "> We can change the name of the file, but it should end with the extension `.tfvars`.\n",
    "\n",
    "Now one good use case for variables would be to be able to set our username and password for the database.\n",
    "\n",
    "Now we could provide this in the `dev.tfvars` and simply make sure this file is not included.  Or we can, also set these variables in an environmental variable in our terminal and have terraform access them.  \n",
    "\n",
    "Let's see this.  Place the following in the terminal.\n",
    "\n",
    "```bash\n",
    "export TF_VAR_rds_name=whatever\n",
    "```"
   ]
  },
  {
   "cell_type": "markdown",
   "id": "9ce07cd1-54a9-4032-aacd-52f25a968a40",
   "metadata": {},
   "source": [
    "Then, run `terraform apply` again."
   ]
  },
  {
   "cell_type": "markdown",
   "id": "ab414604-f681-4097-93c0-4138040f6cbe",
   "metadata": {},
   "source": [
    "This time you can see that the variable name was outputted with `whatever`."
   ]
  },
  {
   "cell_type": "markdown",
   "id": "5010766b-3686-4d5f-a901-83bdc7521e72",
   "metadata": {},
   "source": [
    "Finally, we do not **need** a default value when using variables.  So update the top of the file to remove the default variable."
   ]
  },
  {
   "cell_type": "markdown",
   "id": "3474d9a1-d2fe-449c-9388-1bdb70867f27",
   "metadata": {},
   "source": [
    "```bash\n",
    "variable \"rds_name\" {\n",
    "    type = string\n",
    "}\n",
    "```"
   ]
  },
  {
   "cell_type": "markdown",
   "id": "3e75b0ad-dd8c-4c7c-ab87-98eff26a1f17",
   "metadata": {},
   "source": [
    "You'll see that when you run `terraform apply`, everything will still work fine as the variable will be read from the shell value `TF_VAR_rds_name=whatever`."
   ]
  },
  {
   "cell_type": "markdown",
   "id": "857d3d03-1268-4c33-b2a6-7c4ebda9c128",
   "metadata": {},
   "source": [
    "### Summary"
   ]
  },
  {
   "cell_type": "markdown",
   "id": "198fa3a7-b473-4e5a-8b63-3f6217ca9cd1",
   "metadata": {},
   "source": [
    "In this lesson we learned about using locals and variables.  As we saw, locals are declared directly in our terraform files.  By contrast, with variables we can set default values in the file.  But then we can also set the values of those variables either in a file that ends with `.tfvars`, and then specify that file when running `terraform apply`.\n",
    "\n",
    "```bash\n",
    "terraform apply -var-file=\"dev.tfvars\"\n",
    "```\n",
    "\n",
    "Or we can set the value of those variables by setting an environmental variable that begins with `TF_VAR` like so.\n",
    "```bash\n",
    "export TF_VAR_rds_name=whatever\n",
    "```\n",
    "\n",
    "Variables are good for values that we either want to hide or we want specified at runtime -- like a username and password.  We saw that we do not need to set a default value when declaring variables in terraform."
   ]
  }
 ],
 "metadata": {
  "kernelspec": {
   "display_name": "Python 3 (ipykernel)",
   "language": "python",
   "name": "python3"
  },
  "language_info": {
   "codemirror_mode": {
    "name": "ipython",
    "version": 3
   },
   "file_extension": ".py",
   "mimetype": "text/x-python",
   "name": "python",
   "nbconvert_exporter": "python",
   "pygments_lexer": "ipython3",
   "version": "3.10.13"
  }
 },
 "nbformat": 4,
 "nbformat_minor": 5
}
