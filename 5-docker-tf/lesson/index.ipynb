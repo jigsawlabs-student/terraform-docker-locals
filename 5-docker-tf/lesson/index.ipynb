{
 "cells": [
  {
   "cell_type": "markdown",
   "metadata": {},
   "source": [
    "# Terraform with Docker Reading"
   ]
  },
  {
   "cell_type": "markdown",
   "metadata": {},
   "source": [
    "### Introduction"
   ]
  },
  {
   "cell_type": "markdown",
   "metadata": {},
   "source": [
    "So far we have seen how we can use terraform to set up our infrastructure.  We have used Docker to create EC2 instances, and set up security groups.  However, the services we established on those EC2 instances have been relatively simple so far.\n",
    "\n",
    "Well, in this lesson we'll see how we can both set up an EC2 instance, and use Docker to set up our running services."
   ]
  },
  {
   "cell_type": "markdown",
   "metadata": {},
   "source": [
    "### Exploring the Terraform File"
   ]
  },
  {
   "cell_type": "markdown",
   "metadata": {},
   "source": [
    "You can begin by looking at the terraform already set up in `main.tf`.\n",
    "\n",
    "There you'll see our typical work of creating an EC2 instance (`aws_instance.backend_server`), and associating that server with security groups that allow for both ssh and http access.\n",
    "\n",
    "```bash\n",
    "resource \"aws_instance\" \"backend_server\" {\n",
    "  ami           = \"ami-0d7a109bf30624c99\"\n",
    "  instance_type = \"t2.micro\"\n",
    "  key_name = \"example\" # replace with your key name\n",
    "  \n",
    "  vpc_security_group_ids = [aws_security_group.http_backend_security.id,\n",
    "   aws_security_group.ssh_backend_security.id]\n",
    "   ...\n",
    "```"
   ]
  },
  {
   "cell_type": "markdown",
   "metadata": {},
   "source": [
    "So those initial steps set up our aws infrastructure -- giving us an EC2 machine that's exposing the correct ports.  (The security groups are defined further down in the file).\n",
    "\n",
    "However, the next step is to set up docker on the EC2 machine.  That's what occurs in the next set up of lines."
   ]
  },
  {
   "cell_type": "markdown",
   "metadata": {},
   "source": [
    "```python\n",
    "user_data = <<-EOF\n",
    "              #!/bin/bash\n",
    "              sudo yum update -y \n",
    "              sudo yum install docker -y\n",
    "              sudo systemctl start docker\n",
    "              sudo docker pull jek2141/foursquare_backend -y\n",
    "              sudo docker run --platform=linux/amd64 -p 80:80 jek2141/foursquare_backend\n",
    "              EOF\n",
    "```"
   ]
  },
  {
   "cell_type": "markdown",
   "metadata": {},
   "source": [
    "Ok, so above, we update yum, use it to install docker, then we start docker, and pull down the required image.  Finally, we boot up our container with the `sudo docker run` command. "
   ]
  },
  {
   "cell_type": "markdown",
   "metadata": {},
   "source": [
    "**Your turn** The one step that you will need to do, is use the correct `key_name`.  Update that value with the a key that you have a corresponding pem file for."
   ]
  },
  {
   "cell_type": "markdown",
   "metadata": {},
   "source": [
    "Ok, so give this a shot:\n",
    "\n",
    "```bash\n",
    "terraform init\n",
    "terraform apply\n",
    "```"
   ]
  },
  {
   "cell_type": "markdown",
   "metadata": {},
   "source": [
    "### Checking it out"
   ]
  },
  {
   "cell_type": "markdown",
   "metadata": {},
   "source": [
    "Ok, so with this level of automation, it's good to confirm things are set up properly.\n",
    "\n",
    "So ssh into the ec2 instance.\n",
    "\n",
    "```bash\n",
    "ssh -i something.pem ec2-user@dns.compute-1.amazonaws.com\n",
    "```\n",
    "\n",
    "And ensure that docker is setup and the image is downloaded onto the ec2 instance."
   ]
  },
  {
   "cell_type": "markdown",
   "metadata": {},
   "source": [
    "> `sudo docker image ls`"
   ]
  },
  {
   "cell_type": "markdown",
   "metadata": {},
   "source": [
    "> <img src=\"./docker-setup.png\" width=\"80%\">"
   ]
  },
  {
   "cell_type": "markdown",
   "metadata": {},
   "source": [
    "We can also confirm that the container is running properly."
   ]
  },
  {
   "cell_type": "markdown",
   "metadata": {},
   "source": [
    "> `sudo docker ps`"
   ]
  },
  {
   "cell_type": "markdown",
   "metadata": {},
   "source": [
    "> <img src=\"./docker-ps.png\" width=\"100%\">"
   ]
  },
  {
   "cell_type": "markdown",
   "metadata": {},
   "source": [
    "Ok, so this looks good.  If we look at `PORTS` we can see that we are mapping port 80 on our EC2 machine to port 80 in our docker container.  This is because of the the last line in our `user_data` string:\n",
    "\n",
    "```bash\n",
    "user_data = <<-EOF\n",
    "...\n",
    "sudo docker run --platform=linux/amd64 -p 80:80 jek2141/foursquare_backend\n",
    "EOF\n",
    "```"
   ]
  },
  {
   "cell_type": "markdown",
   "metadata": {},
   "source": [
    "And in our terraform file, we also have a security group that is making port 80 public for http access."
   ]
  },
  {
   "cell_type": "markdown",
   "metadata": {},
   "source": [
    "```bash\n",
    "resource \"aws_security_group\" \"http_backend_security\" {\n",
    "  name = \"new backend security\"\n",
    "  ingress {\n",
    "    from_port   = 80\n",
    "    to_port     = 80\n",
    "    protocol    = \"tcp\"\n",
    "    cidr_blocks = [\"0.0.0.0/0\"]\n",
    "  }\n",
    "}\n",
    "```"
   ]
  },
  {
   "cell_type": "markdown",
   "metadata": {},
   "source": [
    "Ok, so we exposed port 80 on our ec2 machine to any computer on the web, and we exposed port 80 in our docker container to the ec2 machine.  And you can also [see here](https://hub.docker.com/layers/jek2141/foursquare_backend/latest/images/sha256-d40422cd2f3cd2919d4740146cf0b883a51be535b81cc095f9cf5780c5a45cec?context=repo) that the Dockerfile is set up to run flask on port 80."
   ]
  },
  {
   "cell_type": "markdown",
   "metadata": {},
   "source": [
    "```dockerfile\n",
    "CMD [\"flask\" \"run\" \"--host=0.0.0.0\" \"--port=80\"]\n",
    "```"
   ]
  },
  {
   "cell_type": "markdown",
   "metadata": {},
   "source": [
    "Ok, so with all of these steps aligned, and our flask app up and running, we should be able to go to our application running on our domain name."
   ]
  },
  {
   "cell_type": "markdown",
   "metadata": {},
   "source": [
    "`http://domain-name/locations`"
   ]
  },
  {
   "cell_type": "markdown",
   "metadata": {},
   "source": [
    "<img src=\"./deployed-app.png\" width=\"50%\">"
   ]
  },
  {
   "cell_type": "markdown",
   "metadata": {},
   "source": [
    "* Clean up "
   ]
  },
  {
   "cell_type": "markdown",
   "metadata": {},
   "source": [
    "Run `terraform destroy` to remove the EC2 image.  We can always run `terraform apply` again if we want to boot up anything."
   ]
  },
  {
   "cell_type": "markdown",
   "metadata": {},
   "source": [
    "### Summary"
   ]
  },
  {
   "cell_type": "markdown",
   "metadata": {},
   "source": [
    "In this lesson, we walked through setting up terraform to run an application on Docker.  To accomplish this, we needed to keep our initial set up of declaring an EC2 machine, and associating with security groups that allowed for ssh and http access.  In the security group, we specified that the http access was allowed on port 80 to any computer.  \n",
    "\n",
    "We also took advantage of the `user_data` variable in terraform to, install docker, pull down the image and boot up the container.\n",
    "\n",
    "```bash\n",
    "user_data = <<-EOF\n",
    "              #!/bin/bash\n",
    "              sudo yum update -y \n",
    "              sudo yum install docker -y\n",
    "              sudo systemctl start docker\n",
    "              sudo docker pull jek2141/foursquare_backend -y\n",
    "              sudo docker run --platform=linux/amd64 -p 80:80 jek2141/foursquare_backend\n",
    "              EOF\n",
    "```"
   ]
  },
  {
   "cell_type": "markdown",
   "metadata": {},
   "source": [
    "We then confirmed that these steps worked by sshing into our ec2 machine, and using docker commands to see that our image was downloaded and that our container was up and running."
   ]
  }
 ],
 "metadata": {
  "kernelspec": {
   "display_name": "Python 3 (ipykernel)",
   "language": "python",
   "name": "python3"
  },
  "language_info": {
   "codemirror_mode": {
    "name": "ipython",
    "version": 3
   },
   "file_extension": ".py",
   "mimetype": "text/x-python",
   "name": "python",
   "nbconvert_exporter": "python",
   "pygments_lexer": "ipython3",
   "version": "3.10.13"
  }
 },
 "nbformat": 4,
 "nbformat_minor": 4
}
